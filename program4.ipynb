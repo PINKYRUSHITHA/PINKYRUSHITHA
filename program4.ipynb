{
 "cells": [
  {
   "cell_type": "code",
   "execution_count": 1,
   "id": "d3b77d51",
   "metadata": {},
   "outputs": [
    {
     "name": "stdout",
     "output_type": "stream",
     "text": [
      "10\n"
     ]
    }
   ],
   "source": [
    "class parrot:\n",
    "    x=10\n",
    "obj=parrot()\n",
    "print(obj.x)\n",
    "    "
   ]
  },
  {
   "cell_type": "code",
   "execution_count": 3,
   "id": "6b5d0c21",
   "metadata": {},
   "outputs": [
    {
     "name": "stdout",
     "output_type": "stream",
     "text": [
      "hello iam rushi\n"
     ]
    }
   ],
   "source": [
    "class cls:\n",
    "    def test(name):\n",
    "        print(\"hello iam rushi\")\n",
    "oj=cls()        \n",
    "oj.test()        "
   ]
  },
  {
   "cell_type": "code",
   "execution_count": 9,
   "id": "933d68e5",
   "metadata": {},
   "outputs": [
    {
     "name": "stdout",
     "output_type": "stream",
     "text": [
      "hello iam  rushi\n"
     ]
    }
   ],
   "source": [
    "class cls:\n",
    "    def test1(self,name):\n",
    "        print(\"hello iam \",name)\n",
    "oje=cls()        \n",
    "oje.test1(\"rushi\")        "
   ]
  },
  {
   "cell_type": "code",
   "execution_count": 12,
   "id": "01c670c2",
   "metadata": {},
   "outputs": [
    {
     "name": "stdout",
     "output_type": "stream",
     "text": [
      "60\n"
     ]
    }
   ],
   "source": [
    "class add:\n",
    "    x=10\n",
    "    y=20\n",
    "    z=30\n",
    "    w=x+y+z\n",
    "obj=add()\n",
    "print(obj.w)"
   ]
  },
  {
   "cell_type": "code",
   "execution_count": 17,
   "id": "640e7689",
   "metadata": {},
   "outputs": [
    {
     "name": "stdout",
     "output_type": "stream",
     "text": [
      "90\n"
     ]
    }
   ],
   "source": [
    "class add:\n",
    "    def adds(self,a,b,c):\n",
    "        print(a+b+c)\n",
    "obj=add()\n",
    "obj.adds(10,30,50)"
   ]
  },
  {
   "cell_type": "code",
   "execution_count": 21,
   "id": "4783a9e3",
   "metadata": {
    "scrolled": true
   },
   "outputs": [
    {
     "name": "stdout",
     "output_type": "stream",
     "text": [
      "rushi\n",
      "20\n"
     ]
    }
   ],
   "source": [
    "class person:\n",
    "    def __init__(self,name,age):\n",
    "        self.name=name\n",
    "        self.age=age\n",
    "obj=person(\"rushi\",20)\n",
    "print(obj.name)\n",
    "print(obj.age)"
   ]
  },
  {
   "cell_type": "code",
   "execution_count": 24,
   "id": "3d042584",
   "metadata": {},
   "outputs": [
    {
     "name": "stdout",
     "output_type": "stream",
     "text": [
      "rushi\n",
      "20\n"
     ]
    }
   ],
   "source": [
    "class person:\n",
    "    def __init__(self,name,age):\n",
    "        self.name=name\n",
    "        self.age=age\n",
    "    def mymethod(self):\n",
    "        print(\"my name is:\",+self.name)\n",
    "obj=person(\"rushi\",20)\n",
    "print(obj.name)\n",
    "print(obj.age)"
   ]
  },
  {
   "cell_type": "code",
   "execution_count": 36,
   "id": "bf8eb3fe",
   "metadata": {},
   "outputs": [
    {
     "name": "stdout",
     "output_type": "stream",
     "text": [
      "my name is:prem\n",
      "prem\n"
     ]
    },
    {
     "ename": "AttributeError",
     "evalue": "'person' object has no attribute 'age'",
     "output_type": "error",
     "traceback": [
      "\u001b[1;31m---------------------------------------------------------------------------\u001b[0m",
      "\u001b[1;31mAttributeError\u001b[0m                            Traceback (most recent call last)",
      "\u001b[1;32m<ipython-input-36-cec874d455dc>\u001b[0m in \u001b[0;36m<module>\u001b[1;34m\u001b[0m\n\u001b[0;32m     11\u001b[0m \u001b[0mobj\u001b[0m\u001b[1;33m.\u001b[0m\u001b[0mmymethod\u001b[0m\u001b[1;33m(\u001b[0m\u001b[1;33m)\u001b[0m\u001b[1;33m\u001b[0m\u001b[1;33m\u001b[0m\u001b[0m\n\u001b[0;32m     12\u001b[0m \u001b[0mprint\u001b[0m\u001b[1;33m(\u001b[0m\u001b[0mobj\u001b[0m\u001b[1;33m.\u001b[0m\u001b[0mname\u001b[0m\u001b[1;33m)\u001b[0m\u001b[1;33m\u001b[0m\u001b[1;33m\u001b[0m\u001b[0m\n\u001b[1;32m---> 13\u001b[1;33m \u001b[0mprint\u001b[0m\u001b[1;33m(\u001b[0m\u001b[0mobj\u001b[0m\u001b[1;33m.\u001b[0m\u001b[0mage\u001b[0m\u001b[1;33m)\u001b[0m\u001b[1;33m\u001b[0m\u001b[1;33m\u001b[0m\u001b[0m\n\u001b[0m",
      "\u001b[1;31mAttributeError\u001b[0m: 'person' object has no attribute 'age'"
     ]
    }
   ],
   "source": [
    "class person:\n",
    "    def __init__(self,name,age):\n",
    "        self.name=name\n",
    "        self.age=age\n",
    "    def mymethod(self):\n",
    "        print(\"my name is:\"+self.name)\n",
    "obj=person(\"rushi\",20)\n",
    "obj.name=\"prem\"\n",
    "obj.age=24\n",
    "del obj.age\n",
    "obj.mymethod()\n",
    "print(obj.name)\n",
    "print(obj.age)"
   ]
  },
  {
   "cell_type": "code",
   "execution_count": 43,
   "id": "6783a27f",
   "metadata": {},
   "outputs": [
    {
     "name": "stdout",
     "output_type": "stream",
     "text": [
      "parrot is ready\n",
      "parrot\n",
      "fly faast\n"
     ]
    }
   ],
   "source": [
    "class bird:\n",
    "    def __init__(self):\n",
    "        print(\"bird is ready\")\n",
    "    def whozthis(self):\n",
    "        print(\"bird\")\n",
    "    def fast(self):\n",
    "        print(\"fly faast\")\n",
    "class parrot(bird):\n",
    "    def __init__(self):\n",
    "        print(\"parrot is ready\")\n",
    "    def whozthis(self):\n",
    "        print(\"parrot\")\n",
    "    def run(self):\n",
    "        print(\"run slowly\")\n",
    "obj=parrot()\n",
    "\n",
    "obj.whozthis()\n",
    "obj.fast()\n",
    "\n",
    "\n"
   ]
  },
  {
   "cell_type": "code",
   "execution_count": null,
   "id": "2d47a71a",
   "metadata": {},
   "outputs": [],
   "source": []
  }
 ],
 "metadata": {
  "kernelspec": {
   "display_name": "Python 3",
   "language": "python",
   "name": "python3"
  },
  "language_info": {
   "codemirror_mode": {
    "name": "ipython",
    "version": 3
   },
   "file_extension": ".py",
   "mimetype": "text/x-python",
   "name": "python",
   "nbconvert_exporter": "python",
   "pygments_lexer": "ipython3",
   "version": "3.8.8"
  }
 },
 "nbformat": 4,
 "nbformat_minor": 5
}
