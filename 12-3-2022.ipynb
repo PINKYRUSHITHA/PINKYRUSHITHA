{
 "cells": [
  {
   "cell_type": "code",
   "execution_count": 3,
   "id": "7e9a5e2e",
   "metadata": {},
   "outputs": [
    {
     "name": "stdout",
     "output_type": "stream",
     "text": [
      "contact is added\n"
     ]
    }
   ],
   "source": [
    "# ADD CONTACTS\n",
    "contacts = {}\n",
    "def addcontacts(name,number):\n",
    "    if name not in contacts:\n",
    "        contacts[name]=number\n",
    "        print(\"contact is added\")\n",
    "    else:\n",
    "        print(\"contact already exist\")\n",
    "addcontacts(\"vamsi\",9493441286)"
   ]
  },
  {
   "cell_type": "code",
   "execution_count": 4,
   "id": "053e37d3",
   "metadata": {},
   "outputs": [
    {
     "name": "stdout",
     "output_type": "stream",
     "text": [
      "contact is added\n"
     ]
    }
   ],
   "source": [
    "addcontacts(\"ram\",\"9849940131\")"
   ]
  },
  {
   "cell_type": "code",
   "execution_count": 5,
   "id": "85421590",
   "metadata": {},
   "outputs": [
    {
     "name": "stdout",
     "output_type": "stream",
     "text": [
      "contact already exist\n"
     ]
    }
   ],
   "source": [
    "addcontacts(\"vamsi\",\"9493441286\")"
   ]
  },
  {
   "cell_type": "code",
   "execution_count": 6,
   "id": "f539dc28",
   "metadata": {},
   "outputs": [
    {
     "data": {
      "text/plain": [
       "{'vamsi': 9493441286, 'ram': '9849940131'}"
      ]
     },
     "execution_count": 6,
     "metadata": {},
     "output_type": "execute_result"
    }
   ],
   "source": [
    "contacts"
   ]
  },
  {
   "cell_type": "code",
   "execution_count": 8,
   "id": "da4a0aff",
   "metadata": {},
   "outputs": [
    {
     "name": "stdout",
     "output_type": "stream",
     "text": [
      "vamsi : 9493441286\n"
     ]
    }
   ],
   "source": [
    "#Search contact\n",
    "def searchcontact(name):\n",
    "    if name in contacts:\n",
    "        print(name,\":\",contacts[name])\n",
    "    else:\n",
    "        print(\"contact not exist\")\n",
    "searchcontact(\"vamsi\")"
   ]
  },
  {
   "cell_type": "code",
   "execution_count": 9,
   "id": "7426d0f5",
   "metadata": {},
   "outputs": [
    {
     "name": "stdout",
     "output_type": "stream",
     "text": [
      "contact is added\n"
     ]
    }
   ],
   "source": [
    "addcontacts(\"kiran\",\"6304401924\")"
   ]
  },
  {
   "cell_type": "code",
   "execution_count": 14,
   "id": "93d3bfd1",
   "metadata": {},
   "outputs": [
    {
     "name": "stdout",
     "output_type": "stream",
     "text": [
      "contact is deleted\n"
     ]
    }
   ],
   "source": [
    "#delete contact\n",
    "def deletecontact(name):\n",
    "    if name in contacts:\n",
    "        del contacts[name]\n",
    "        print(\"contact is deleted\")\n",
    "    else:\n",
    "        print(\"contact not avaliable\")\n",
    "deletecontact(\"ram\")"
   ]
  },
  {
   "cell_type": "code",
   "execution_count": 15,
   "id": "e0beda5a",
   "metadata": {},
   "outputs": [
    {
     "data": {
      "text/plain": [
       "{'vamsi': 9493441286, 'kiran': '6304401924'}"
      ]
     },
     "execution_count": 15,
     "metadata": {},
     "output_type": "execute_result"
    }
   ],
   "source": [
    "contacts"
   ]
  },
  {
   "cell_type": "code",
   "execution_count": 16,
   "id": "6dc5d7cb",
   "metadata": {},
   "outputs": [
    {
     "name": "stdout",
     "output_type": "stream",
     "text": [
      "contact is added\n"
     ]
    }
   ],
   "source": [
    "addcontacts(\"amruth\",\"8096203832\")"
   ]
  },
  {
   "cell_type": "code",
   "execution_count": 17,
   "id": "e7cc18fd",
   "metadata": {},
   "outputs": [
    {
     "data": {
      "text/plain": [
       "{'vamsi': 9493441286, 'kiran': '6304401924', 'amruth': '8096203832'}"
      ]
     },
     "execution_count": 17,
     "metadata": {},
     "output_type": "execute_result"
    }
   ],
   "source": [
    "contacts"
   ]
  },
  {
   "cell_type": "code",
   "execution_count": 18,
   "id": "b949d189",
   "metadata": {},
   "outputs": [
    {
     "name": "stdout",
     "output_type": "stream",
     "text": [
      "3 contacts are added\n"
     ]
    }
   ],
   "source": [
    "#merge contacts\n",
    "def mergecontact(newcontacts):\n",
    "    contacts.update(newcontacts)\n",
    "    print(len(newcontacts.keys()),\"contacts are added\")\n",
    "newcontacts={\"sai kiran\":\"9569872539\",\"yashwanth\":\"912148321\",\"kanche\":\"7416892365\"}\n",
    "mergecontact(newcontacts)\n",
    "    "
   ]
  },
  {
   "cell_type": "code",
   "execution_count": 19,
   "id": "529bd457",
   "metadata": {},
   "outputs": [
    {
     "data": {
      "text/plain": [
       "{'vamsi': 9493441286,\n",
       " 'kiran': '6304401924',\n",
       " 'amruth': '8096203832',\n",
       " 'sai kiran': '9569872539',\n",
       " 'yashwanth': '912148321',\n",
       " 'kanche': '7416892365'}"
      ]
     },
     "execution_count": 19,
     "metadata": {},
     "output_type": "execute_result"
    }
   ],
   "source": [
    "contacts\n",
    "p"
   ]
  },
  {
   "cell_type": "markdown",
   "id": "a380ecdd",
   "metadata": {},
   "source": [
    "# string"
   ]
  },
  {
   "cell_type": "code",
   "execution_count": 22,
   "id": "b226c298",
   "metadata": {},
   "outputs": [
    {
     "name": "stdout",
     "output_type": "stream",
     "text": [
      "vamsi\n",
      "VAMSI\n",
      "V a m s i\n",
      "V,a,m,s,i\n"
     ]
    }
   ],
   "source": [
    "d=\"Vamsi\"\n",
    "print(d.lower())\n",
    "print(d.upper())\n",
    "print(\" \".join(d))\n",
    "print(\",\".join(d))"
   ]
  },
  {
   "cell_type": "code",
   "execution_count": 24,
   "id": "b65768c8",
   "metadata": {},
   "outputs": [
    {
     "name": "stdout",
     "output_type": "stream",
     "text": [
      "['python', 'is', 'a', 'Simple', 'programming', 'language']\n",
      "['python i', ' a Simple programming language']\n",
      "python is a Easy programming language\n"
     ]
    }
   ],
   "source": [
    "# split method\n",
    "s= \"python is a Simple programming language\"\n",
    "print(s.split())\n",
    "print(s.split(\"s\"))\n",
    "print(s.replace(\"Simple\",\"Easy\"))"
   ]
  },
  {
   "cell_type": "code",
   "execution_count": 25,
   "id": "d795dcb8",
   "metadata": {},
   "outputs": [
    {
     "name": "stdout",
     "output_type": "stream",
     "text": [
      "python is a Easy programming language\n"
     ]
    }
   ],
   "source": [
    "#replace method\n",
    "print(s.replace(\"Simple\",\"Easy\"))"
   ]
  },
  {
   "cell_type": "code",
   "execution_count": 30,
   "id": "0a8f3f43",
   "metadata": {
    "scrolled": true
   },
   "outputs": [
    {
     "name": "stdout",
     "output_type": "stream",
     "text": [
      "True\n",
      "True\n",
      "False\n",
      "True\n",
      "True\n",
      "False\n",
      "True\n",
      "False\n",
      "True\n"
     ]
    }
   ],
   "source": [
    "# Boolean \n",
    "f=\"vamsi\"\n",
    "print(f.islower())\n",
    "\n",
    "f1=\"VAMSI\"\n",
    "print(f1.isupper())\n",
    "print(f.isupper())\n",
    "\n",
    "f2=\"Vamsi\"\n",
    "print(f2.istitle())\n",
    "print(f2.isalpha())\n",
    "\n",
    "f3=\"1234564796\"\n",
    "print(f2.isnumeric())\n",
    "print(f3.isnumeric())\n",
    "\n",
    "f4=\"vamsi \"\n",
    "print(f4.isspace())\n",
    "\n",
    "f5=\" \"\n",
    "print(f5.isspace())"
   ]
  },
  {
   "cell_type": "markdown",
   "id": "d4366675",
   "metadata": {},
   "source": [
    "# file handling\n",
    "- filehandling , mode\n",
    "- mode has 3 methods\n",
    "- **w** for write a file\n",
    "- **r** for read a file\n",
    "- **a** for append a file"
   ]
  },
  {
   "cell_type": "code",
   "execution_count": 33,
   "id": "a4e3d4db",
   "metadata": {
    "scrolled": true
   },
   "outputs": [
    {
     "name": "stdout",
     "output_type": "stream",
     "text": [
      "welocme to the file handling\n"
     ]
    }
   ],
   "source": [
    "f=open(\"pythonfile.txt\",\"r\")\n",
    "print(f.read())"
   ]
  },
  {
   "cell_type": "code",
   "execution_count": 34,
   "id": "530ba82c",
   "metadata": {},
   "outputs": [
    {
     "name": "stdout",
     "output_type": "stream",
     "text": [
      "welocme to\n"
     ]
    }
   ],
   "source": [
    "f=open(\"pythonfile.txt\",\"r\")\n",
    "print(f.read(10))"
   ]
  },
  {
   "cell_type": "code",
   "execution_count": 35,
   "id": "e6dbe7a1",
   "metadata": {},
   "outputs": [
    {
     "name": "stdout",
     "output_type": "stream",
     "text": [
      "welocme to the file handling\n",
      "\n",
      "supreme\n",
      "\n",
      "victory\n",
      "\n",
      "supreme\n",
      "\n",
      "victory\n",
      "\n",
      "supreme\n",
      "\n"
     ]
    }
   ],
   "source": [
    "f=open(\"pythonfile.txt\",\"r\")\n",
    "print(f.readline())\n",
    "print(f.readline())\n",
    "print(f.readline())\n",
    "print(f.readline())\n",
    "print(f.readline())\n",
    "print(f.readline())"
   ]
  },
  {
   "cell_type": "code",
   "execution_count": 39,
   "id": "234abe1a",
   "metadata": {},
   "outputs": [
    {
     "name": "stdout",
     "output_type": "stream",
     "text": [
      "file is created\n"
     ]
    }
   ],
   "source": [
    "# create a file and write something in the file \n",
    "def createfile(filename):\n",
    "    f=open(filename,\"w\")\n",
    "    for i in range(20):\n",
    "        f.write(\"Dharnalakota vvs vamsi\" \"\\n\")\n",
    "    print(\"file is created\")\n",
    "createfile(\"text.txt\")"
   ]
  },
  {
   "cell_type": "code",
   "execution_count": 42,
   "id": "53534660",
   "metadata": {},
   "outputs": [
    {
     "name": "stdout",
     "output_type": "stream",
     "text": [
      "file is created\n"
     ]
    }
   ],
   "source": [
    "# append \n",
    "def createfile(filename):\n",
    "    f=open(filename,\"a\")\n",
    "    for i in range (5):\n",
    "        f.write(\"sandhya\" \"\\n\")\n",
    "    print(\"file is created\")\n",
    "createfile(\"text.txt\")"
   ]
  },
  {
   "cell_type": "code",
   "execution_count": 43,
   "id": "a1c49dbb",
   "metadata": {},
   "outputs": [
    {
     "name": "stdout",
     "output_type": "stream",
     "text": [
      "Dharnalakota vvs vamsi\n",
      "Dharnalakota vvs vamsi\n",
      "Dharnalakota vvs vamsi\n",
      "Dharnalakota vvs vamsi\n",
      "Dharnalakota vvs vamsi\n",
      "Dharnalakota vvs vamsi\n",
      "Dharnalakota vvs vamsi\n",
      "Dharnalakota vvs vamsi\n",
      "Dharnalakota vvs vamsi\n",
      "Dharnalakota vvs vamsi\n",
      "Dharnalakota vvs vamsi\n",
      "Dharnalakota vvs vamsi\n",
      "Dharnalakota vvs vamsi\n",
      "Dharnalakota vvs vamsi\n",
      "Dharnalakota vvs vamsi\n",
      "Dharnalakota vvs vamsi\n",
      "Dharnalakota vvs vamsi\n",
      "Dharnalakota vvs vamsi\n",
      "Dharnalakota vvs vamsi\n",
      "Dharnalakota vvs vamsi\n",
      "sandhya\n",
      "sandhya\n",
      "sandhya\n",
      "sandhya\n",
      "sandhya\n",
      "sandhya\n",
      "sandhya\n",
      "sandhya\n",
      "sandhya\n",
      "sandhya\n",
      "\n"
     ]
    }
   ],
   "source": [
    "f=open(\"text.txt\",\"r\")\n",
    "print(f.read())"
   ]
  },
  {
   "cell_type": "code",
   "execution_count": null,
   "id": "1df7fa7d",
   "metadata": {},
   "outputs": [],
   "source": []
  }
 ],
 "metadata": {
  "kernelspec": {
   "display_name": "Python 3 (ipykernel)",
   "language": "python",
   "name": "python3"
  },
  "language_info": {
   "codemirror_mode": {
    "name": "ipython",
    "version": 3
   },
   "file_extension": ".py",
   "mimetype": "text/x-python",
   "name": "python",
   "nbconvert_exporter": "python",
   "pygments_lexer": "ipython3",
   "version": "3.9.7"
  }
 },
 "nbformat": 4,
 "nbformat_minor": 5
}
