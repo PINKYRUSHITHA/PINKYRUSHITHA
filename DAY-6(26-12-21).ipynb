{
 "cells": [
  {
   "cell_type": "markdown",
   "id": "1a37aa45",
   "metadata": {},
   "source": []
  },
  {
   "cell_type": "markdown",
   "id": "10b0f56e",
   "metadata": {},
   "source": [
    "# ARITHEMATIC OPERATIONS"
   ]
  },
  {
   "cell_type": "code",
   "execution_count": 1,
   "id": "5178371e",
   "metadata": {},
   "outputs": [
    {
     "name": "stdout",
     "output_type": "stream",
     "text": [
      "55\n",
      "35\n",
      "450\n",
      "4.5\n",
      "5\n",
      "34050628916015625\n",
      "4\n"
     ]
    }
   ],
   "source": [
    "x = 45\n",
    "y = 10\n",
    "print(x+y)\n",
    "print(x-y)\n",
    "print(x*y)\n",
    "print(x/y)\n",
    "print(x%y)\n",
    "print(x**y)\n",
    "print(x//y)\n"
   ]
  },
  {
   "cell_type": "markdown",
   "id": "07dc7a24",
   "metadata": {},
   "source": [
    "# ASSIGNMENT OPERATOR:"
   ]
  },
  {
   "cell_type": "code",
   "execution_count": 4,
   "id": "1a753516",
   "metadata": {},
   "outputs": [
    {
     "name": "stdout",
     "output_type": "stream",
     "text": [
      "30\n",
      "25\n",
      "75\n",
      "37.5\n",
      "52734.375\n",
      "3.375\n",
      "0.0\n"
     ]
    }
   ],
   "source": [
    "x = 20\n",
    "x += 10\n",
    "print(x)\n",
    "x -= 5\n",
    "print(x)\n",
    "x *= 3\n",
    "print(x)\n",
    "x /= 2\n",
    "print(x)\n",
    "x **= 3\n",
    "print(x)\n",
    "x %= 7\n",
    "print(x)\n",
    "x //= 6\n",
    "print(x)"
   ]
  },
  {
   "cell_type": "markdown",
   "id": "6335ddf4",
   "metadata": {},
   "source": [
    "# Comparision Operators\n",
    " "
   ]
  },
  {
   "cell_type": "code",
   "execution_count": 5,
   "id": "df152b0f",
   "metadata": {},
   "outputs": [
    {
     "name": "stdout",
     "output_type": "stream",
     "text": [
      "False\n",
      "True\n",
      "False\n",
      "True\n",
      "False\n",
      "True\n"
     ]
    }
   ],
   "source": [
    "x = 8\n",
    "y = 5\n",
    "print(x == y)\n",
    "print(x != y)\n",
    "print(x < y)\n",
    "print(x > y)\n",
    "print(x <= y)\n",
    "print(x >= y)"
   ]
  },
  {
   "cell_type": "markdown",
   "id": "b18f801c",
   "metadata": {},
   "source": [
    "# Logical Operator:"
   ]
  },
  {
   "cell_type": "code",
   "execution_count": 7,
   "id": "c14cf5b7",
   "metadata": {},
   "outputs": [
    {
     "name": "stdout",
     "output_type": "stream",
     "text": [
      "False\n",
      "True\n",
      "True\n"
     ]
    }
   ],
   "source": [
    "x = 5\n",
    "print(x <7 and x >8)\n",
    "print(x <7 or x >8)\n",
    "print(not(x <7 and x >8))\n"
   ]
  },
  {
   "cell_type": "markdown",
   "id": "ef8a4b8b",
   "metadata": {},
   "source": [
    "# Identitiy Operators:\n",
    "- used to compare objects \n",
    "- **'is'**\n",
    "- **'is not'**"
   ]
  },
  {
   "cell_type": "code",
   "execution_count": 10,
   "id": "3c0da7e2",
   "metadata": {},
   "outputs": [
    {
     "name": "stdout",
     "output_type": "stream",
     "text": [
      "False\n",
      "False\n",
      "False\n"
     ]
    }
   ],
   "source": [
    "x = 4\n",
    "y = 8\n",
    "z = 8\n",
    "print(x is y)\n",
    "print(x is z)\n",
    "print(x is y is z)"
   ]
  },
  {
   "cell_type": "markdown",
   "id": "7f2de389",
   "metadata": {},
   "source": [
    "# Membership Operator:\n",
    "- used to test given sequence is presented \n",
    "- **'in'**\n",
    "- **'not in'**"
   ]
  },
  {
   "cell_type": "code",
   "execution_count": 11,
   "id": "714266bb",
   "metadata": {},
   "outputs": [
    {
     "name": "stdout",
     "output_type": "stream",
     "text": [
      "True\n",
      "True\n",
      "True\n",
      "False\n"
     ]
    }
   ],
   "source": [
    "s = \"python\"\n",
    "print(\"y\" in s)\n",
    "print(\"th\" in s)\n",
    "print(\"on\"in s)\n",
    "print(\"p\" not in s)"
   ]
  },
  {
   "cell_type": "markdown",
   "id": "14e8dbbb",
   "metadata": {},
   "source": [
    "# Control flow statements\n",
    "- if else \n",
    "\n"
   ]
  },
  {
   "cell_type": "code",
   "execution_count": 12,
   "id": "ebdfeebc",
   "metadata": {},
   "outputs": [
    {
     "name": "stdout",
     "output_type": "stream",
     "text": [
      "enter a number5\n",
      "Odd Number\n"
     ]
    }
   ],
   "source": [
    "# check given number is even or odd\n",
    "n = int(input(\"enter a number\"))\n",
    "if n%2==0:\n",
    "    print(\"Even Number\")\n",
    "else :\n",
    "    print(\"Odd Number\")"
   ]
  },
  {
   "cell_type": "code",
   "execution_count": 15,
   "id": "750657aa",
   "metadata": {},
   "outputs": [
    {
     "name": "stdout",
     "output_type": "stream",
     "text": [
      "enter a number12\n",
      "no\n"
     ]
    }
   ],
   "source": [
    "# check a given number is multiples of both 3 and 5\n",
    "n = int(input(\"enter a number\"))\n",
    "if n%3==0 and n%5==0:\n",
    "    print(\"yes\")\n",
    "else:\n",
    "    print(\"no\")\n"
   ]
  },
  {
   "cell_type": "code",
   "execution_count": 3,
   "id": "6c370df7",
   "metadata": {},
   "outputs": [
    {
     "name": "stdout",
     "output_type": "stream",
     "text": [
      "enter a number:25\n",
      "postive number\n"
     ]
    }
   ],
   "source": [
    "# check given is +ve or -ve or zero\n",
    "n =int(input(\"enter a number:\"))\n",
    "if n>0:\n",
    "    print(\"postive number\")\n",
    "elif n<0:\n",
    "    print(\"negative number\")\n",
    "else:    \n",
    "    print(\"zero\")"
   ]
  },
  {
   "cell_type": "code",
   "execution_count": 5,
   "id": "e0dcf4b3",
   "metadata": {},
   "outputs": [
    {
     "name": "stdout",
     "output_type": "stream",
     "text": [
      "enter first number5\n",
      "enter second number3\n",
      "enter third number2\n",
      "x\n"
     ]
    }
   ],
   "source": [
    "# find large number from 3 inputs\n",
    "x=int(input(\"enter first number\"))\n",
    "y=int(input(\"enter second number\"))\n",
    "z=int(input(\"enter third number\"))\n",
    "if x>y:\n",
    "    print(\"x\")\n",
    "elif y>z:\n",
    "    print(\"y\")\n",
    "else:\n",
    "    print(\"z\")"
   ]
  },
  {
   "cell_type": "code",
   "execution_count": 12,
   "id": "85b2f60d",
   "metadata": {},
   "outputs": [
    {
     "name": "stdout",
     "output_type": "stream",
     "text": [
      "enter marks:99\n",
      "O\n"
     ]
    }
   ],
   "source": [
    "# find grading\n",
    "n =int(input(\"enter marks:\"))\n",
    "if n>85:\n",
    "    print(\"O\")\n",
    "elif n>75:\n",
    "    print(\"S\")\n",
    "elif n>65:\n",
    "    print(\"A\")\n",
    "elif n>55:\n",
    "    print(\"B\")\n",
    "elif n>45:\n",
    "    print(\"C\")\n",
    "elif n>35: \n",
    "    print(\"D\")\n",
    "else:\n",
    "    print(\"F\")\n",
    "     "
   ]
  },
  {
   "cell_type": "markdown",
   "id": "d1cbeb48",
   "metadata": {},
   "source": [
    "# While Loop Statements\n"
   ]
  },
  {
   "cell_type": "code",
   "execution_count": 14,
   "id": "f2328ca8",
   "metadata": {},
   "outputs": [
    {
     "name": "stdout",
     "output_type": "stream",
     "text": [
      "Python\n",
      "Python\n",
      "Python\n",
      "Python\n",
      "Python\n"
     ]
    }
   ],
   "source": [
    "# wanto print \"python\" 5 times\n",
    "i=1\n",
    "while i<=5:\n",
    "    print(\"Python\")\n",
    "    i=i+1"
   ]
  },
  {
   "cell_type": "code",
   "execution_count": 15,
   "id": "5ae5c799",
   "metadata": {},
   "outputs": [
    {
     "name": "stdout",
     "output_type": "stream",
     "text": [
      "1 2 3 4 5 6 7 8 9 10 "
     ]
    }
   ],
   "source": [
    "# print 1 to 10\n",
    "i=1\n",
    "while i<=10:\n",
    "    print(i,end = \" \")\n",
    "    i = i+1     "
   ]
  },
  {
   "cell_type": "code",
   "execution_count": 1,
   "id": "68b6de7e",
   "metadata": {},
   "outputs": [
    {
     "name": "stdout",
     "output_type": "stream",
     "text": [
      "2 4 6 8 10 "
     ]
    }
   ],
   "source": [
    "# From 1 to 10 number print only even numbers\n",
    "i = 1\n",
    "while i<=10:\n",
    "    if i%2==0:\n",
    "        print(i,end = \" \")\n",
    "    i=i+1\n"
   ]
  },
  {
   "cell_type": "code",
   "execution_count": 1,
   "id": "0723271e",
   "metadata": {},
   "outputs": [
    {
     "name": "stdout",
     "output_type": "stream",
     "text": [
      "enter a number6\n",
      "1 2 3 6 "
     ]
    }
   ],
   "source": [
    "# input : 6 o/p: 1 2 3 6\n",
    "n = int(input(\"enter a number\"))\n",
    "i = 1\n",
    "while i<= n:\n",
    "    if n%i==0:\n",
    "        print(i,end= \" \")\n",
    "    i =i+1"
   ]
  },
  {
   "cell_type": "code",
   "execution_count": null,
   "id": "d5dc930c",
   "metadata": {},
   "outputs": [],
   "source": []
  }
 ],
 "metadata": {
  "kernelspec": {
   "display_name": "Python 3",
   "language": "python",
   "name": "python3"
  },
  "language_info": {
   "codemirror_mode": {
    "name": "ipython",
    "version": 3
   },
   "file_extension": ".py",
   "mimetype": "text/x-python",
   "name": "python",
   "nbconvert_exporter": "python",
   "pygments_lexer": "ipython3",
   "version": "3.8.8"
  }
 },
 "nbformat": 4,
 "nbformat_minor": 5
}
